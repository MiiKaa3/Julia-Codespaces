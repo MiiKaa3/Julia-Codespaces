{
 "cells": [
  {
   "cell_type": "markdown",
   "id": "1c6f2514",
   "metadata": {},
   "source": [
    "# Question 9: Matrix Multiplication"
   ]
  },
  {
   "cell_type": "code",
   "execution_count": 5,
   "id": "3bc0509c",
   "metadata": {},
   "outputs": [
    {
     "data": {
      "text/plain": [
       "2×4 Matrix{Float64}:\n",
       " 127.0  87.0  3.0  95.0\n",
       "  71.0  61.0  9.0  80.0"
      ]
     },
     "metadata": {},
     "output_type": "display_data"
    }
   ],
   "source": [
    "using LinearAlgebra\n",
    "using Random\n",
    "Random.seed!(1)\n",
    "A = round.(10*rand(2,3))\n",
    "B = round.(10*rand(3,4))\n",
    "typeof(A)\n",
    "A*B"
   ]
  },
  {
   "cell_type": "markdown",
   "id": "ac2c8f5f",
   "metadata": {},
   "source": [
    "## 9(a) `my_mult_by_cols`"
   ]
  },
  {
   "cell_type": "code",
   "execution_count": null,
   "id": "a557a267",
   "metadata": {},
   "outputs": [
    {
     "data": {
      "text/plain": [
       "2×4 Matrix{Float64}:\n",
       " 127.0  87.0  3.0  95.0\n",
       "  71.0  61.0  9.0  80.0"
      ]
     },
     "metadata": {},
     "output_type": "display_data"
    }
   ],
   "source": [
    "function my_mult_by_cols(A::Matrix, B::Matrix)::Matrix\n",
    "  if size(A, 2) != size(B, 1)\n",
    "    throw(DimensionMismatch(\"Inner dimension must be equal: got $(size(A)) and $(size(B))\"))\n",
    "  end\n",
    "\n",
    "  C = zeros((size(A)[1],size(B)[2]))\n",
    "\n",
    "  for j in 1:size(C, 2)\n",
    "    for k in 1:size(A, 2)\n",
    "      C[:,j] += B[k,j] * A[:,k]\n",
    "    end\n",
    "  end\n",
    "\n",
    "  return C\n",
    "end\n",
    "\n",
    "my_mult_by_cols(A, B)"
   ]
  },
  {
   "cell_type": "markdown",
   "id": "e263090c",
   "metadata": {},
   "source": [
    "I'm having a hard time with this, trying to work out exactly what I need to loop through. I discovered the eachcol and eachrow functions. But then, trying to get the B element to match up with the A col vector... ach its tough. Now I've discovered matrix index slicing! A little more powerful, I think. New approach: let's think mathematically. I've developed the formula I'm trying to implement:\n",
    "$$\n",
    "  c_j = \\sum_{k=1}^{m} B_{k,j}A_{:,j}\n",
    "$$\n",
    "I'm going to try and develop the function by translating the formula from math to code.\n",
    "\n",
    "Yes, that was much easier and much more congurant with my ways of thinking."
   ]
  },
  {
   "cell_type": "markdown",
   "id": "f45c840e",
   "metadata": {},
   "source": [
    "## 9(b) `my_mult_by_rows`"
   ]
  },
  {
   "cell_type": "code",
   "execution_count": null,
   "id": "7d894d67",
   "metadata": {},
   "outputs": [
    {
     "data": {
      "text/plain": [
       "2×4 Matrix{Float64}:\n",
       " 127.0  87.0  3.0  95.0\n",
       "  71.0  61.0  9.0  80.0"
      ]
     },
     "metadata": {},
     "output_type": "display_data"
    }
   ],
   "source": [
    "function my_mult_by_rows(A::Matrix, B::Matrix)::Matrix\n",
    "  if size(A, 2) != size(B, 1)\n",
    "    throw(DimensionMismatch(\"Inner dimension must be equal: got $(size(A)) and $(size(B))\"))\n",
    "  end\n",
    "\n",
    "  C = zeros((size(A)[1],size(B)[2]))\n",
    "\n",
    "  for i in 1:size(C, 1)\n",
    "    for k in 1:size(B, 1)\n",
    "      C[i,:] += A[i,k] * B[k,:]\n",
    "    end\n",
    "  end\n",
    "\n",
    "  return C\n",
    "end\n",
    "\n",
    "my_mult_by_rows(A, B)"
   ]
  },
  {
   "cell_type": "markdown",
   "id": "26afcd9a",
   "metadata": {},
   "source": [
    "Now that I know how much easier working with the math is, I'm just going to start by considering the approriate formula, namely\n",
    "$$\n",
    "  c_i = \\sum_{k=1}^{n} A_{i,k}B_{k,:}\n",
    "$$\n",
    "I'll also start writing my function with the same error handling and set up I had in `my_mult_by_cols`.\n",
    "\n",
    "Nice! With my experience and code from 9(a), I was able to implement the function by just swapping some variables around in less than 5 minutes."
   ]
  },
  {
   "cell_type": "markdown",
   "id": "4bed4e9d",
   "metadata": {},
   "source": [
    "## 9(c) `my_mult_sum_outer_products`"
   ]
  },
  {
   "cell_type": "code",
   "execution_count": 86,
   "id": "adac59ff",
   "metadata": {},
   "outputs": [
    {
     "data": {
      "text/plain": [
       "2×4 Matrix{Float64}:\n",
       " 127.0  87.0  3.0  95.0\n",
       "  71.0  61.0  9.0  80.0"
      ]
     },
     "metadata": {},
     "output_type": "display_data"
    }
   ],
   "source": [
    "# ORIGINAL CODE\n",
    "# function my_mult_sum_outer_products(A::Matrix, B::Matrix)::Matrix\n",
    "#   if size(A, 2) != size(B, 1)\n",
    "#     throw(DimensionMismatch(\"Inner dimension must be equal: got $(size(A)) and $(size(B))\"))\n",
    "#   end\n",
    "\n",
    "#   C = zeros((size(A)[1],size(B)[2]))\n",
    "\n",
    "#   for j in 1:size(A,2)\n",
    "#     C += A[:,j] * transpose(B[j,:])\n",
    "#   end\n",
    "\n",
    "#   return C\n",
    "# end\n",
    "\n",
    "# FILTHY ARRAY COMPREHENSION\n",
    "# function my_mult_sum_outer_products(A::Matrix, B::Matrix)::Matrix\n",
    "#   if size(A, 2) != size(B, 1)\n",
    "#     throw(DimensionMismatch(\"Inner dimension must be equal: got $(size(A)) and $(size(B))\"))\n",
    "#   end\n",
    "#   return sum([A[:,j] * transpose(B[j,:]) for j in 1:size(A,2)])\n",
    "# end\n",
    "\n",
    "# FINAL FORM\n",
    "my_mult_sum_outer_products(A::Matrix, B::Matrix)::Matrix = (size(A, 2) == size(B, 1) || throw(DimensionMismatch(\"Inner dimension must be equal: got $(size(A)) and $(size(B))\"))) && sum(A[:,j] * transpose(B[j,:]) for j in 1:size(A,2))\n",
    "\n",
    "my_mult_sum_outer_products(A, B)"
   ]
  },
  {
   "cell_type": "markdown",
   "id": "23b499fd",
   "metadata": {},
   "source": [
    "This time they gave me the courtesy of giving me the math I need to implement,\n",
    "$$\n",
    "  AB = \\sum_{j=1}^{m} A_{:,j}B_{J,:}^\\top\n",
    "$$\n",
    "Let's Implement it!\n",
    "\n",
    "I was a little worried, but then I typed transpose into a cell, and autocomplete revealed to me that an easy to use transpose function exists. Once I knew that, the function was really easy to write.\n",
    "\n",
    "I think this is a prime candidate for a filthy array comprehension...\n",
    "\n",
    "yes! I was hoping the sum command would work like that haha. PERFECT.\n",
    "\n",
    "Ok I did some research, and I think I can bring the size check into the return statement with a short-circuit error check, like was shown in the lectures. Also I learned that sum works matrix-wise with generators, so I don't even need the comprehension! I can just throw the generator directly into `sum`. Finally, I saw in the Julia Express alternative ways to define functions, including in one line, omiting the `function` and `end` keywords. Truly, a one line function. I present, `my_mult_sum_outer_product`'s final form."
   ]
  }
 ],
 "metadata": {
  "kernelspec": {
   "display_name": "Julia 1.11.6",
   "language": "julia",
   "name": "julia-1.11"
  },
  "language_info": {
   "file_extension": ".jl",
   "mimetype": "application/julia",
   "name": "julia",
   "version": "1.11.6"
  }
 },
 "nbformat": 4,
 "nbformat_minor": 5
}
