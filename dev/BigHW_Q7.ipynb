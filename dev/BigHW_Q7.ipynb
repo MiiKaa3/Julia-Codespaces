{
 "cells": [
  {
   "cell_type": "markdown",
   "id": "d7abee53",
   "metadata": {},
   "source": [
    "# Question 7: Time to Speak to an LLM"
   ]
  },
  {
   "cell_type": "markdown",
   "id": "1df4e09b",
   "metadata": {},
   "source": [
    "## 7(a) Installing Ollama"
   ]
  },
  {
   "cell_type": "markdown",
   "id": "394b5a7f",
   "metadata": {},
   "source": [
    "I will say, I'm a little nervous! Let's see how we do, I'll document this.\n",
    "\n",
    "First of all, I use Arch BTW, so I looked through the Arch Linux package library, and found Ollama on there! So I'll run\n",
    "```\n",
    ">> sudo pacman -S ollama\n",
    "```\n",
    "to install it. It installed successfully. So next I'll try\n",
    "```\n",
    ">> ollama run phi3\n",
    "Error: ollama server not responding - could not connect to ollama server, run 'ollama serve' to start it\n",
    "```\n",
    "Weird. Going to do some research to see if this is ok/expected. People complain a lot about Ollama online haha. I'm going to try again\n",
    "```\n",
    ">> ollama serve\n",
    ">> ollama run phi3\n",
    "pulling manifest \n",
    "pulling 633fc5be925f:  64% ▕██████████████████████████████████                    ▏ 1.4 GB/2.2 GB   13 MB/s     57s\n",
    "```\n",
    "And I'm seeing it download the model, as expected! The last 0.2GB are taking exceedingly long to download...\n",
    "```\n",
    "pulling manifest \n",
    "pulling 633fc5be925f: 100% ▕██████████████████████████████████████████████████████▏ 2.2 GB                         \n",
    "pulling fa8235e5b48f: 100% ▕██████████████████████████████████████████████████████▏ 1.1 KB                         \n",
    "pulling 542b217f179c: 100% ▕██████████████████████████████████████████████████████▏  148 B                         \n",
    "pulling 8dde1baf1db0: 100% ▕██████████████████████████████████████████████████████▏   78 B                         \n",
    "pulling 23291dc44752: 100% ▕██████████████████████████████████████████████████████▏  483 B                         \n",
    "verifying sha256 digest \n",
    "writing manifest \n",
    "success \n",
    ">>> Send a message (/? for help)\n",
    "```\n",
    "Eventually, it downloaded, and I entered the REPL LLM chat environment. Now I can proceed with the task!\n",
    "```\n",
    ">>> I am wondering about the difference between programming and coding. Please explain.\n",
    "Programming is a broader concept that encompinasses several aspects of creating software, from understanding \n",
    "user requirements to designing algorithms and writing code in various languages like Java or Python. It \n",
    "involves critical thinking skills such as problem-solving, logical reasoning, planning development strategy \n",
    "(like agile methodology), debugging the errors found during execution, maintaining a consistent coding style \n",
    "throughout projects, documentation of both code and project flow using tools like Javadoc for Java programs \n",
    "etc.\n",
    "\n",
    "On the other hand, Coding is one specific part in programming where you actually write your program's source \n",
    "code based on previously established designs or algorithms. It involves writing clear, well-documented syntax \n",
    "that can be interpreted by a computer to perform tasks and solve problems as required. The focus here would \n",
    "primarily lie with understanding how different languages operate (syntax), using libraries effectively etc., \n",
    "while the broader aspects such as debugging techniques, planning strategies might not come into play often \n",
    "during this phase unless you're writing code for specific testing scenarios or optimizing a program to run \n",
    "faster which involves advanced programming knowledge.\n",
    "\n",
    "Here is an example of how these two can interact in real-world scenario: A software engineer first understands \n",
    "the user requirements and creates algorithms (programming). Then, they write down corresponding source codes \n",
    "using their chosen language(coding), test them for errors or bugs, refine as necessary through iterations, \n",
    "document everything along with writing comments to explain certain sections of code. This continuous process \n",
    "embodies both programming and coding tasks working together in a harmonized manner throughout the software \n",
    "development lifecycle.\n",
    "\n",
    "It's important to note that even though these terms are often used interchangeably, understanding their \n",
    "individual roles can help you identify where your skills might lie better or areas which need improvement for \n",
    "overall success as a programmer/coder and enhancing productivity in collaborative projects too!\n",
    "```\n",
    "Nice! Then I exited with ctrl+d, and had a go at running it again, and it worked without a hitch. Keen to move on to the next parts!"
   ]
  },
  {
   "cell_type": "markdown",
   "id": "1c9c424e",
   "metadata": {},
   "source": [
    "## 7(b) `ollama serve`"
   ]
  },
  {
   "cell_type": "markdown",
   "id": "2748fad7",
   "metadata": {},
   "source": [
    "pass"
   ]
  },
  {
   "cell_type": "markdown",
   "id": "c3f87625",
   "metadata": {},
   "source": [
    "## 7(c) Automating our `curl` with Julia, HTTP, and JSON"
   ]
  },
  {
   "cell_type": "markdown",
   "id": "9e459bef",
   "metadata": {},
   "source": [
    "pass"
   ]
  },
  {
   "cell_type": "markdown",
   "id": "fb41e151",
   "metadata": {},
   "source": [
    "## 7(d) Basically ChatGPT"
   ]
  },
  {
   "cell_type": "markdown",
   "id": "18961ec8",
   "metadata": {},
   "source": [
    "pass"
   ]
  }
 ],
 "metadata": {
  "language_info": {
   "name": "python"
  }
 },
 "nbformat": 4,
 "nbformat_minor": 5
}
