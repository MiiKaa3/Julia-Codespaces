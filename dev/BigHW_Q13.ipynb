{
 "cells": [
  {
   "cell_type": "markdown",
   "id": "5b320ea7",
   "metadata": {},
   "source": [
    "# Question 13: Numerical derivatives"
   ]
  },
  {
   "cell_type": "code",
   "execution_count": 72,
   "id": "a2ec0859",
   "metadata": {},
   "outputs": [
    {
     "data": {
      "text/plain": [
       "\"/home/michael/uni/MATH2504/Julia-Codespaces/dev/figure.png\""
      ]
     },
     "metadata": {},
     "output_type": "display_data"
    }
   ],
   "source": [
    "# Adaoted from the code provided in Lecture Unit 4.\n",
    "\n",
    "using Plots\n",
    "using LaTeXStrings\n",
    "\n",
    "function calculate_numerical_derivative_error(\n",
    "        x0, f, fprime;\n",
    "        h_range = 10 .^(-14:0.01:-2),\n",
    "        diff_scheme = (f, x; h=sqrt(eps())) -> (f(x + h) - f(x)) / h\n",
    "    )\n",
    "    errs = [abs(diff_scheme(f, x0; h = h) - fprime(x0))/abs(fprime(x0)) for h in h_range]\n",
    "    return errs\n",
    "end\n",
    "\n",
    "function plot_numerical_derivative_error(x0, f, fprime;\n",
    "    h_range = 10 .^(-14:0.01:-2),\n",
    "    diff_scheme = (f, x; h=sqrt(eps())) -> (f(x + h) - f(x)) / h,\n",
    "    colour = :red,\n",
    "    label = \"\"\n",
    ")\n",
    "    errs = calculate_numerical_derivative_error(x0, f, fprime; h_range=h_range, diff_scheme=diff_scheme)\n",
    "    plot(h_range, errs,\n",
    "        yaxis = :log,xaxis = :log,\n",
    "        xlabel=\"h\" ,ylabel=\"Absolute relative error\",\n",
    "        c = colour,\n",
    "        label=label,\n",
    "        legend = :bottomleft,\n",
    "        size=(800, 600),\n",
    "        title = L\"\\mathrm{I\\ hope\\ you\\ don't\\ have\\ colour\\ blindness}\",\n",
    "        xticks=10,\n",
    "        yticks=10,\n",
    "    )\n",
    "end\n",
    "\n",
    "function plot_numerical_derivative_error!(x0, f, fprime;\n",
    "    h_range = 10 .^(-14:0.01:-2),\n",
    "    diff_scheme = (f, x; h=sqrt(eps())) -> (f(x + h) - f(x)) / h,\n",
    "    colour = :red,\n",
    "    label = \"\"\n",
    ")\n",
    "    errs = calculate_numerical_derivative_error(x0, f, fprime; h_range=h_range, diff_scheme=diff_scheme)\n",
    "    plot!(h_range, errs,\n",
    "        c = colour,\n",
    "        label=label\n",
    "    )\n",
    "end\n",
    "\n",
    "diff_forward(f, x; h = sqrt(eps())) = (f(x + h) - f(x)) / h\n",
    "diff_central(f, x; h = sqrt(eps())) = (f(x + h/2) - f(x - h/2)) / h\n",
    "\n",
    "plot_numerical_derivative_error(0.5, x -> sin(x^2), x -> 2x*cos(x^2); diff_scheme=diff_central, colour=\"#4876c7\", label=L\"\\mathrm{(Cen.)}\\ f_1(x) = \\sin\\left(x^2\\right)\")\n",
    "plot_numerical_derivative_error!(0.5, x -> sin(x^2), x -> 2x*cos(x^2); diff_scheme=diff_forward, colour=\"#30c26b\", label=L\"\\mathrm{(For.)}\\ f_1(x) = \\sin\\left(x^2\\right)\")\n",
    "\n",
    "plot_numerical_derivative_error!(1, x -> exp(3*x^2), x -> 6x * exp(3*x^2); diff_scheme=diff_central, colour=\"#1d4182\", label=L\"\\mathrm{(Cen.)}\\ f_2(x) = \\exp\\left(3x^2\\right)\")\n",
    "plot_numerical_derivative_error!(1, x -> exp(3*x^2), x -> 6x * exp(3*x^2); diff_scheme=diff_forward, colour=\"#3c9e64\", label=L\"\\mathrm{(For.)}\\ f_2(x) = \\exp\\left(3x^2\\right)\")\n",
    "\n",
    "f3 = x -> atan(2x) / (1 + exp(-2*x^2))\n",
    "f3prime = x -> (2*exp(2*x^2)*(1 + exp(2*x^2) + 2*(x + 4*x^3)*atan(2*x))) / ((1 + exp(2*x^2))^2*(1 + 4*x^2))\n",
    "plot_numerical_derivative_error!(2, f3, f3prime; diff_scheme=diff_central, colour=\"#648dd9\", label=L\"\\mathrm{(Cen.)}\\ f_3(x) = \\arctan\\left(2x\\right) / \\left(1 + \\exp\\left(-2x^2\\right)\\right)\")\n",
    "plot_numerical_derivative_error!(2, f3, f3prime; diff_scheme=diff_forward, colour=:\"#0f6331\", label=L\"\\mathrm{(For.)}\\ f_3(x) = \\arctan\\left(2x\\right) / \\left(1 + \\exp\\left(-2x^2\\right)\\right)\")\n",
    "\n",
    "savefig(\"./figure.png\")"
   ]
  },
  {
   "cell_type": "code",
   "execution_count": null,
   "id": "096e064e",
   "metadata": {},
   "outputs": [],
   "source": []
  }
 ],
 "metadata": {
  "kernelspec": {
   "display_name": "Julia 1.10.10",
   "language": "julia",
   "name": "julia-1.10"
  },
  "language_info": {
   "file_extension": ".jl",
   "mimetype": "application/julia",
   "name": "julia",
   "version": "1.10.10"
  }
 },
 "nbformat": 4,
 "nbformat_minor": 5
}
