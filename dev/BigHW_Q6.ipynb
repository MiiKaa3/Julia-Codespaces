{
 "cells": [
  {
   "cell_type": "markdown",
   "id": "1195a5e2",
   "metadata": {},
   "source": [
    "# Question 6: Primative Abundant Numbers"
   ]
  },
  {
   "cell_type": "markdown",
   "id": "6d6406ab",
   "metadata": {},
   "source": [
    "## 5(a) Inital investigation"
   ]
  },
  {
   "cell_type": "markdown",
   "id": "c2085d4d",
   "metadata": {},
   "source": [
    "The sum of divisors of a nautural number, denoted $\\sigma$ is a function $\\sigma:\\mathbb{N}\\to\\mathbb{N}$ which maps $n$ to the sum of it's divisors,\n",
    "$$\n",
    "    \\sigma(n) = \\displaystyle\\sum_{d\\mid n} d.\n",
    "$$\n",
    "An abundant number is a natural number whose sum of divisors is greater than 2 times the number, i.e. $\\sigma(n) > 2n$. A deficient number is a number whose sum of divisors is less than 2 times the number, i.e. $\\sigma(n) < 2n$. A primative abundant number (PAN) is an abundant number, whose proper divisors are all deficient numbers.\n",
    "\n",
    "20's divisors are 1, 2, 4, 5, 10, 20. Hence, $\\sigma(20) = 1 + 2 + 4 + 5 + 10 + 20 = 42 > 2(20)$. Hence, 20 is an abundant number. $\\sigma(1) = 1 < 2(1)$, $\\sigma(2) = 1 + 2 = 3 < 2(4)$, $\\sigma(4) = 1 + 2 + 4 = 7 < 2(4)$, $\\sigma(5) = 1 + 5 = 6 < 2(5)$, and $\\sigma(10) = 1 + 2 + 5 + 10 = 18 < 2(10)$ (20 is not a proper divisors); hence, 1, 2, 4, 5 and 10 are all deficient.\n",
    "\n",
    "18's divisors are 1, 2, 3, 6, 9, 18. Hence, $\\sigma(18) = 39 > 2(18)$. Therefore, 18 is an abundant number. However, 6's divisors are 1, 2, 3, 9, so $\\sigma(6) = 12 = 2(6)$, which means 6 is not a deficient number (in fact its a perfect number!). Therefore, 18 is an abundant number, but not a primitive abundant number.\n",
    "\n",
    "$\\sigma(19)=20$, $\\sigma(21)=32$, $\\sigma(22)=36$, and $\\sigma(23)=24$. All of these numbers are defficent themselves, and are therefore not PANs."
   ]
  },
  {
   "cell_type": "markdown",
   "id": "ecdb60ff",
   "metadata": {},
   "source": [
    "## 5(b) Print all the PANs less than 100"
   ]
  },
  {
   "cell_type": "code",
   "execution_count": null,
   "id": "8aa20512",
   "metadata": {},
   "outputs": [
    {
     "name": "stdout",
     "output_type": "stream",
     "text": [
      "20\n",
      "70\n",
      "88\n",
      "104\n",
      "272\n",
      "304\n",
      "368\n",
      "464\n",
      "550\n",
      "572\n",
      "650\n",
      "748\n",
      "836\n",
      "945\n"
     ]
    }
   ],
   "source": [
    "using Primes\n",
    "\n",
    "@enum nmumberType undefined=-1 deficient=0 perfect=1 abundant=2 primitiveabundant=3\n",
    "numbers = Dict(n => undefined for n in 1:1000)\n",
    "for n in keys(numbers)\n",
    "    sigma = sum(divisors(n))\n",
    "    if sigma < 2*n\n",
    "        numbers[n] = deficient\n",
    "    elseif sigma > 2*n\n",
    "        numbers[n] = abundant\n",
    "    else\n",
    "        numbers[n] = perfect\n",
    "    end\n",
    "end\n",
    "\n",
    "for n in keys(numbers)\n",
    "    if numbers[n] != abundant\n",
    "        continue\n",
    "    end\n",
    "    properDivs = divisors(n)[1:end-1]\n",
    "    for q in properDivs\n",
    "        if numbers[q] != deficient\n",
    "            @goto nextNumber\n",
    "        end\n",
    "    end\n",
    "    numbers[n] = primitiveabundant\n",
    "    @label nextNumber\n",
    "end\n",
    "\n",
    "for n in sort(collect(keys(numbers)))\n",
    "    if numbers[n] == primitiveabundant\n",
    "        println(n)\n",
    "    end\n",
    "end"
   ]
  },
  {
   "cell_type": "markdown",
   "id": "1260c5f4",
   "metadata": {},
   "source": []
  }
 ],
 "metadata": {
  "kernelspec": {
   "display_name": "Julia 1.10.10",
   "language": "julia",
   "name": "julia-1.10"
  },
  "language_info": {
   "file_extension": ".jl",
   "mimetype": "application/julia",
   "name": "julia",
   "version": "1.10.10"
  }
 },
 "nbformat": 4,
 "nbformat_minor": 5
}
