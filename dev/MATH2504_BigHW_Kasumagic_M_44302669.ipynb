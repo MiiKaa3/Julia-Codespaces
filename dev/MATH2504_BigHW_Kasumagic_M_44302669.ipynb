{
 "cells": [
  {
   "cell_type": "markdown",
   "id": "6cca4696",
   "metadata": {},
   "source": [
    "# Question 2: Warming up with Quadratic Equations"
   ]
  },
  {
   "cell_type": "markdown",
   "id": "367206c7",
   "metadata": {},
   "source": [
    "## 2(a) Experiment with syntax variations"
   ]
  },
  {
   "cell_type": "code",
   "execution_count": 29,
   "id": "befee386",
   "metadata": {},
   "outputs": [
    {
     "data": {
      "text/plain": [
       "2-element Vector{Float64}:\n",
       " 2.0\n",
       " 3.0"
      ]
     },
     "metadata": {},
     "output_type": "display_data"
    }
   ],
   "source": [
    "function real_roots_of_quadratic(a::Number, b::Number, c::Number)\n",
    "    a == 0 && throw(DomainError(a, \"argument must be nonzero\"))\n",
    "\n",
    "    roots::Array{Float64} = []\n",
    "    Δ = b^2 - 4a*c\n",
    "\n",
    "    if Δ < 0 \n",
    "        roots = []\n",
    "    elseif Δ == 0\n",
    "        roots = [-b/(2a)]\n",
    "    else\n",
    "        roots = (-b .+ [√Δ, -√Δ]) / (2a)\n",
    "    end\n",
    "    return roots \n",
    "end\n",
    "\n",
    "real_roots_of_quadratic(-1,5,-6)"
   ]
  },
  {
   "cell_type": "markdown",
   "id": "d4ce4dac",
   "metadata": {},
   "source": [
    "1. The code would still work because typing is not mandatory, however, my linter and IDE analysis tools might be a little messed up now, because the function can recieve any data as arguments instead of the numbers it expects. This could lead to unexpected or strange behaviours (like, if a, b, and c were string how would the delta varaible be caluclated? how would the roots be calculated?)\n",
    "\n",
    "2. 4ac doesn't work! Variable names can't start with a 4, so Julia is smart enough to know that 4a means 4 times some variable called a. However, 4ac is arbitrary: do i want 4 times some varaible called a times some variable called c, or do i want one multiplication of 4 and some variable called \"ac.\" When it runs, we get \"ac is not defined\" (ACTUALLY, 2 letter names are allowed, i tested this by starting the function with ac=1, and it ran just fine! The problem is it knows i want 4 times some varaible, and if ac is defined, then itll use ac. howver, we run into problems when \"a\" \"c\" and \"ac\" are all defined, however this issue is not brought up by the complier or the linter, so its up to the programmer to be smart about their naming conventions!)\n",
    "\n",
    "3. a syntax error, specifically (ParseError: unexpected '=')\n",
    "\n",
    "4. Yes, .+ [Del, -Del] worked. No, + [Del, -Del] did not work, i got a MethodError: no method matching +(::Int64, ::Vector{Float64}). It also gave me an error hint saying to use .+ for element-wise addition.\n",
    "\n",
    "5. Yes, it works fine. Julia returns the result of the most recent command by default, so return is not strictly needed.\n",
    "\n",
    "6. `real_roots_of_quadratic(0,5,-6)` returns `2-element Vector{Float64}: NaN -Inf`. This is because b^2 - 4ac = b^2 > 0 ensures we divide by 0 when we calculate the roots (.../2a=.../2(0)=.../0).\n",
    "\n",
    "7. Yes, this seems to work, in the sense that my code doesn't crash out anymore\n",
    "\n",
    "8. Yes this works. When Julia assess/executes the Boolean statement `a == 0 && return \"Error - ...\"` it intially assess `a == 0`. If this is false, the `&&` resolves to false regardless of what the right-hand operand is. Hence the right hand doesn't get executed. If `a== 0` is true, then Julia executes the right hand operand and `return \"Error - ...\"` is run, breaking us away from the function, and returning control to the parent function/Julia/OS/etc.\n",
    "\n",
    "9. Instead of returning control to the parent function/Julia/OS/etc., it crashes the program and spits out the DomainError and explanation, so that the user can debug and fix their code. DomainError basically means (in mathematical language) \"input is not an element of the function's domain\""
   ]
  },
  {
   "cell_type": "markdown",
   "id": "f1fe88ad",
   "metadata": {},
   "source": [
    "## 2(b) Let's try some examples\n",
    "\n"
   ]
  },
  {
   "cell_type": "code",
   "execution_count": 33,
   "id": "18e15f1e",
   "metadata": {},
   "outputs": [
    {
     "name": "stdout",
     "output_type": "stream",
     "text": [
      "The equation 1x² + -5x + 6 = 0 has the real roots 3.0 and 2.0\n",
      "The equation 1x² + 2x + 3 = 0 has no real roots.\n",
      "The equation 1x² + 7x + 0 = 0 has the real roots 0.0 and -7.0\n"
     ]
    }
   ],
   "source": [
    "examples = [[1,-5,6], [1,2,3], [1,7,0]]\n",
    "\n",
    "for example in examples\n",
    "    roots = real_roots_of_quadratic(example[1], example[2], example[3])\n",
    "    print(\"The equation $(example[1])x² + $(example[2])x + $(example[3]) = 0 \")\n",
    "    if length(roots) == 0\n",
    "        println(\"has no real roots.\")\n",
    "    elseif length(roots) == 1\n",
    "        println(\"has a single (real) root $(roots[1])\")\n",
    "    else\n",
    "        println(\"has the real roots $(roots[1]) and $(roots[2])\")\n",
    "    end\n",
    "end"
   ]
  }
 ],
 "metadata": {
  "kernelspec": {
   "display_name": "Julia 1.10.10",
   "language": "julia",
   "name": "julia-1.10"
  },
  "language_info": {
   "file_extension": ".jl",
   "mimetype": "application/julia",
   "name": "julia",
   "version": "1.10.10"
  }
 },
 "nbformat": 4,
 "nbformat_minor": 5
}
