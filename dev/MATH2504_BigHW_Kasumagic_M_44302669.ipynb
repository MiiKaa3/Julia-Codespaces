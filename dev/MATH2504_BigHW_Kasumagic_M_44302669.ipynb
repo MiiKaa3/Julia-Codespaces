{
 "cells": [
  {
   "cell_type": "markdown",
   "id": "6cca4696",
   "metadata": {},
   "source": [
    "# Question 2: Warming up with Quadratic Equations"
   ]
  },
  {
   "cell_type": "code",
   "execution_count": 15,
   "id": "a5236925",
   "metadata": {},
   "outputs": [
    {
     "data": {
      "text/plain": [
       "real_roots_of_quadratic (generic function with 2 methods)"
      ]
     },
     "metadata": {},
     "output_type": "display_data"
    }
   ],
   "source": [
    "function real_roots_of_quadratic(a::Number, b::Number, c::Number)\n",
    "    roots::Array{Float64} = []\n",
    "    Δ = b^2 - 4a*c\n",
    "\n",
    "    if Δ < 0 \n",
    "        roots = []\n",
    "    elseif Δ == 0\n",
    "        roots = [-b/(2a)]\n",
    "    else\n",
    "        roots = [-b + √Δ, -b - √Δ] / (2a)\n",
    "    end\n",
    "    return roots \n",
    "end"
   ]
  },
  {
   "cell_type": "code",
   "execution_count": 16,
   "id": "1ea16eeb",
   "metadata": {},
   "outputs": [
    {
     "data": {
      "text/plain": [
       "2-element Vector{Float64}:\n",
       " 2.0\n",
       " 3.0"
      ]
     },
     "metadata": {},
     "output_type": "display_data"
    }
   ],
   "source": [
    "real_roots_of_quadratic(-1,5,-6)"
   ]
  },
  {
   "cell_type": "markdown",
   "id": "d4ce4dac",
   "metadata": {},
   "source": [
    "## 2a Experiment with syntax variations\n",
    "\n",
    "1. The code would still work because typing is not mandatory, however, my linter and IDE analysis tools might be a little messed up now, because the function can recieve any data as arguments instead of the numbers it expects. This could lead to unexpected or strange behaviours (like, if a, b, and c were string how would the delta varaible be caluclated? how would the roots be calculated?)\n",
    "\n",
    "2. 4ac doesn't work! Variable names can't start with a 4, so Julia is smart enough to know that 4a means 4 times some variable called a. However, 4ac is arbitrary: do i want 4 times some varaible called a times some variable called c, or do i want one multiplication of 4 and some variable called \"ac.\" When it runs, we get \"ac is not defined\" (ACTUALLY, 2 letter names are allowed, i tested this by starting the function with ac=1, and it ran just fine! The problem is it knows i want 4 times some varaible, and if ac is defined, then itll use ac. howver, we run into problems when \"a\" \"c\" and \"ac\" are all defined, however this issue is not brought up by the complier or the linter, so its up to the programmer to be smart about their naming conventions!)"
   ]
  }
 ],
 "metadata": {
  "kernelspec": {
   "display_name": "Julia 1.10.10",
   "language": "julia",
   "name": "julia-1.10"
  },
  "language_info": {
   "file_extension": ".jl",
   "mimetype": "application/julia",
   "name": "julia",
   "version": "1.10.10"
  }
 },
 "nbformat": 4,
 "nbformat_minor": 5
}
