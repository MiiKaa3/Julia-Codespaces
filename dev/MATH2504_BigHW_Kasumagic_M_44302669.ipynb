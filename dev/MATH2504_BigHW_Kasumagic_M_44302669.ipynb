{
 "cells": [
  {
   "cell_type": "markdown",
   "id": "6cca4696",
   "metadata": {},
   "source": [
    "# Question 2: Warming up with Quadratic Equations"
   ]
  },
  {
   "cell_type": "markdown",
   "id": "367206c7",
   "metadata": {},
   "source": [
    "## 2(a) Experiment with syntax variations"
   ]
  },
  {
   "cell_type": "code",
   "execution_count": 1,
   "id": "befee386",
   "metadata": {},
   "outputs": [
    {
     "data": {
      "text/plain": [
       "2-element Vector{Float64}:\n",
       " 2.0\n",
       " 3.0"
      ]
     },
     "metadata": {},
     "output_type": "display_data"
    }
   ],
   "source": [
    "function real_roots_of_quadratic(a::Number, b::Number, c::Number)\n",
    "    a == 0 && throw(DomainError(a, \"argument must be nonzero\"))\n",
    "\n",
    "    roots::Array{Float64} = []\n",
    "    Δ = b^2 - 4a*c\n",
    "\n",
    "    if Δ < 0 \n",
    "        roots = []\n",
    "    elseif Δ == 0\n",
    "        roots = [-b/(2a)]\n",
    "    else\n",
    "        roots = (-b .+ [√Δ, -√Δ]) / (2a)\n",
    "    end\n",
    "    return roots \n",
    "end\n",
    "\n",
    "real_roots_of_quadratic(-1,5,-6)"
   ]
  },
  {
   "cell_type": "markdown",
   "id": "d4ce4dac",
   "metadata": {},
   "source": [
    "1. The code would still work because typing is not mandatory, however, my linter and IDE analysis tools might be a little messed up now, because the function can recieve any data as arguments instead of the numbers it expects. This could lead to unexpected or strange behaviours (like, if a, b, and c were string how would the delta varaible be caluclated? how would the roots be calculated?)\n",
    "\n",
    "2. 4ac doesn't work! Variable names can't start with a 4, so Julia is smart enough to know that 4a means 4 times some variable called a. However, 4ac is arbitrary: do i want 4 times some varaible called a times some variable called c, or do i want one multiplication of 4 and some variable called \"ac.\" When it runs, we get \"ac is not defined\" (ACTUALLY, 2 letter names are allowed, i tested this by starting the function with ac=1, and it ran just fine! The problem is it knows i want 4 times some varaible, and if ac is defined, then itll use ac. howver, we run into problems when \"a\" \"c\" and \"ac\" are all defined, however this issue is not brought up by the complier or the linter, so its up to the programmer to be smart about their naming conventions!)\n",
    "\n",
    "3. a syntax error, specifically (ParseError: unexpected '=')\n",
    "\n",
    "4. Yes, .+ [Del, -Del] worked. No, + [Del, -Del] did not work, i got a MethodError: no method matching +(::Int64, ::Vector{Float64}). It also gave me an error hint saying to use .+ for element-wise addition.\n",
    "\n",
    "5. Yes, it works fine. Julia returns the result of the most recent command by default, so return is not strictly needed.\n",
    "\n",
    "6. `real_roots_of_quadratic(0,5,-6)` returns `2-element Vector{Float64}: NaN -Inf`. This is because b^2 - 4ac = b^2 > 0 ensures we divide by 0 when we calculate the roots (.../2a=.../2(0)=.../0).\n",
    "\n",
    "7. Yes, this seems to work, in the sense that my code doesn't crash out anymore\n",
    "\n",
    "8. Yes this works. When Julia assess/executes the Boolean statement `a == 0 && return \"Error - ...\"` it intially assess `a == 0`. If this is false, the `&&` resolves to false regardless of what the right-hand operand is. Hence the right hand doesn't get executed. If `a== 0` is true, then Julia executes the right hand operand and `return \"Error - ...\"` is run, breaking us away from the function, and returning control to the parent function/Julia/OS/etc.\n",
    "\n",
    "9. Instead of returning control to the parent function/Julia/OS/etc., it crashes the program and spits out the DomainError and explanation, so that the user can debug and fix their code. DomainError basically means (in mathematical language) \"input is not an element of the function's domain\""
   ]
  },
  {
   "cell_type": "markdown",
   "id": "f1fe88ad",
   "metadata": {},
   "source": [
    "## 2(b) Let's try some examples\n",
    "\n"
   ]
  },
  {
   "cell_type": "code",
   "execution_count": 2,
   "id": "18e15f1e",
   "metadata": {},
   "outputs": [
    {
     "name": "stdout",
     "output_type": "stream",
     "text": [
      "The equation x² - 5.0x + 6.0 = 0 has the real roots 3.0 and 2.0\n",
      "The equation x² + 2.0x + 3.0 = 0 has no real roots.\n",
      "The equation x² + 7.0x + 0.0 = 0 has the real roots 0.0 and -7.0\n",
      "The equation 3.0x² - 9.42477796076938x - 59.21762640653615 = 0 has the real roots 6.283185307179586 and -3.141592653589793\n",
      "The equation x² - 4.0x + 4.0 = 0 has a single (real) root 2.0\n",
      "The equation -x² - 1.0x + 1.0 = 0 has the real roots -1.618033988749895 and 0.6180339887498949\n"
     ]
    }
   ],
   "source": [
    "function print_quadratic_roots(coefficients::Vector{<:Number}, roots::Vector{<:Number})\n",
    "    print(\"The equation \\\n",
    "    $(abs(coefficients[1]) == 1 ? (coefficients[1] < 0 ? \"-\" : \"\") : coefficients[1])x² \\\n",
    "    $(coefficients[2] < 0 ? \"- \" : \"+ \")$(abs(coefficients[2]))x \\\n",
    "    $(coefficients[3] < 0 ? \"- \" : \"+ \")$(abs(coefficients[3])) = 0 \")\n",
    "    if length(roots) == 0\n",
    "        println(\"has no real roots.\")\n",
    "    elseif length(roots) == 1\n",
    "        println(\"has a single (real) root $(roots[1])\")\n",
    "    else\n",
    "        println(\"has the real roots $(roots[1]) and $(roots[2])\")\n",
    "    end\n",
    "    return Nothing\n",
    "end\n",
    "\n",
    "examples = [[1,-5,6], [1,2,3], [1,7,0], [3,-3π,-6π^2], [1,-4,4], [-1,-1,1]]\n",
    "\n",
    "for example in examples\n",
    "    roots = real_roots_of_quadratic(example[1], example[2], example[3])\n",
    "    print_quadratic_roots(example, roots)\n",
    "end"
   ]
  },
  {
   "cell_type": "markdown",
   "id": "f28081ad",
   "metadata": {},
   "source": [
    "1. I added 3x^2 - 3pi*x - 6pi^2 and x^2 - 4x + 4. It works as expected.\n",
    "\n",
    "2. I've added the function as requested! The `::Vector{<:Number}` type annotation tells Julia to accept inputs which are vectors of _any_ type of number (`Int`, `Float`, `BigInt`, etc.)\n",
    "\n",
    "3. Ok, i think I went a little beyond the scope of the questions, but it does achieve the desired effect of the question. Using terney logic operators, i've made it that `-1x^2 + -2x + -3` prints as `-x^2 - 2x - 3` which is significnatly pretier. I've used some newlines in the print statement to make it a little more readable."
   ]
  },
  {
   "cell_type": "markdown",
   "id": "855cd983",
   "metadata": {},
   "source": [
    "## 2(c) Creating a testing framework for our quadratic solver"
   ]
  },
  {
   "cell_type": "code",
   "execution_count": null,
   "id": "212f1225",
   "metadata": {},
   "outputs": [
    {
     "name": "stdout",
     "output_type": "stream",
     "text": [
      "Test passed\n"
     ]
    }
   ],
   "source": [
    "using Random\n",
    "\"\"\"\n",
    "This function generates `num_tests` random triples of coefficients and checks that the function `real_roots_of_quadratic()` does its job. The return value is `true` if the test passed, otherwise it is `false`.\n",
    "\"\"\"\n",
    "function test_real_roots_of_quadratic(;num_tests=10000, seed=42, coeff_min=-1000., coeff_max=1000.)\n",
    "    Random.seed!(seed)\n",
    "    test_passed = true\n",
    "    for _ in 1:num_tests\n",
    "        a, b, c = (coeff_max - coeff_min)rand(3) .+ coeff_min # Uniform values in range [-1000, 1000]\n",
    "        roots = real_roots_of_quadratic(a,b,c)\n",
    "        for x in roots\n",
    "            err = a*x^2 + b*x + c\n",
    "            test_passed = (test_passed && isapprox(err, 0.0, atol = 1e-8))\n",
    "        end\n",
    "    end\n",
    "    return test_passed\n",
    "end\n",
    "\n",
    "function test_random_roots_of_quadratic(;num_tests=10000, seed=42, root_min=-1000., root_max=1000.)\n",
    "    Random.seed!(seed)\n",
    "    test_passed = true\n",
    "    for _ in 1:num_tests\n",
    "        root_count = floor(3rand()+1)\n",
    "        roots = (root_max - root_min)rand() \n",
    "    end\n",
    "end\n",
    "\n",
    "test_real_roots_of_quadratic() ? println(\"Test passed\") : println(\"Test failed!\")"
   ]
  },
  {
   "cell_type": "markdown",
   "id": "89a25db1",
   "metadata": {},
   "source": [
    "1. `rand(3)` creates a vector of 3 uniform indenpendently and identically destributed floats, between 0 and 1. `2000rand(3)` then multiplies those 3 elements by 2000, effectively giving us numbers in the range [0, 2000]. Finally, `.- 1000.` performs an element-wise subtraction of 1000.0 (a float) on the vector, giving us the desired range [-1000, 1000]. Finally, to achieve the range [-5, 5] I would rewrite the expression as `a, b, c = 10rand(3) .- 5.`. \n",
    "\n",
    "2. i did this. Initally I had `(max - min)rand(3) .- min` and it was compling properly and passing the test, but when i investigated the numbers it was producing it was not in bounds! I eventually realised that the line should be `(max - min)rand(3) .+ min`!\n",
    "\n",
    "3. If there are no real roots, `roots == []`, so when we come to `for x in roots` nothing happens, because there is no x in roots. So, no (0) itterations (**** CHECK)\n",
    "\n",
    "4. I basically described this in 2.! If I placed `.- coeff_min` in the line where we generate the coefficents, the code would complie, run, and pass all tests, so the actually 'bug' is quite subtle. Only in investigating the code more closely was I able to confirm its exisitence.\n",
    "\n",
    "5. For `root_count` i tried to find an equivilent to Python's `random.randint()` but couldn't find anything like that in the Julia docs, so i had to generate the numbers in the range i wanted manually."
   ]
  },
  {
   "cell_type": "code",
   "execution_count": 44,
   "id": "34259bc4",
   "metadata": {},
   "outputs": [
    {
     "data": {
      "text/plain": [
       "3-element Vector{Float64}:\n",
       "  242.3096749941294\n",
       "  -60.58735465993027\n",
       " -853.6264468200881"
      ]
     },
     "metadata": {},
     "output_type": "display_data"
    }
   ],
   "source": [
    "roots = (1000. - (-1000.))rand(floor(Int, 3rand()+1)) .+ (-1000)\n",
    "# root_count = floor(Int, 3rand()+1)\n",
    "# roots = (1000 )rand(floor(Int, 3rand()+1))"
   ]
  },
  {
   "cell_type": "code",
   "execution_count": 45,
   "id": "2f89a418",
   "metadata": {},
   "outputs": [
    {
     "data": {
      "text/plain": [
       "Float64[]"
      ]
     },
     "metadata": {},
     "output_type": "display_data"
    }
   ],
   "source": [
    "rand(0)"
   ]
  }
 ],
 "metadata": {
  "kernelspec": {
   "display_name": "Julia 1.10.10",
   "language": "julia",
   "name": "julia-1.10"
  },
  "language_info": {
   "file_extension": ".jl",
   "mimetype": "application/julia",
   "name": "julia",
   "version": "1.10.10"
  }
 },
 "nbformat": 4,
 "nbformat_minor": 5
}
