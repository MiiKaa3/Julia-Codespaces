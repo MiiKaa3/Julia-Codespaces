{
 "cells": [
  {
   "cell_type": "markdown",
   "id": "941fd6e6",
   "metadata": {},
   "source": [
    "# Question 10: Setting up your GitHub repo for hand-in."
   ]
  },
  {
   "cell_type": "markdown",
   "id": "9397bc1b",
   "metadata": {},
   "source": [
    "I'm going to say right away that, in week 1, as soon as I found my partner, we created a repo for all our work, before we knew about this question. So I'm going to try my best to follow this guide to meet the assessment requirements, and hopefully I don't have to delete and recreate my repo haha"
   ]
  },
  {
   "cell_type": "markdown",
   "id": "98d837dd",
   "metadata": {},
   "source": [
    "1. I have had a Github account since March, 2020 :)\n",
    "\n",
    "2. Phew! This is what I was worried about. Turns out, you can rename a git repo. `Michael-Kasumagic__Atako-Nakamura-2504-2025-BigHW` Done!\n",
    "\n",
    "3. Set it to private. Whoops, here I was thinking it should be public so you can see it.\n",
    "\n",
    "4. uqMATH2504 was addeed as a collaborator! Gave the account a follow too :D\n",
    "\n",
    "5. I won't push any commits after the due date!\n",
    "\n",
    "6. I already have and actively use a local clone of the repo!\n",
    "\n",
    "7. I have and use git through WSL (Arch btw)\n",
    "\n",
    "8. We both set up authentication in week 1!\n",
    "\n",
    "9. I pushed a commit to the README adding a clickable link. I didn't delete the other stuff in the README because it contains my first commit (adding the \"this is a git test\") and Atako's first link (\"Yes, it works ^^\"). It's kinda like we both signed the repo haha|\n",
    "\n",
    "10. Added a `.gitignore`\n",
    "\n",
    "10. A pushed a commit which renamed the `Final_Notebooks` folder to `Notebooks`, then realised if I want to take compliance seriously, I should push a second commit renaming it to `notebooks`.\n",
    "\n",
    "11. We do have other things in the repo which I don't want to remove just yet. I added a note to future self to add them all to .gitignore before the deadline."
   ]
  }
 ],
 "metadata": {
  "language_info": {
   "name": "python"
  }
 },
 "nbformat": 4,
 "nbformat_minor": 5
}
